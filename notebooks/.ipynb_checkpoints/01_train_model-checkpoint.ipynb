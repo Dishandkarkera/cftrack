{
 "cells": [
  {
   "cell_type": "code",
   "execution_count": 1,
   "id": "07c65508-c3f1-4941-96db-61a1527e4380",
   "metadata": {},
   "outputs": [
    {
     "name": "stdout",
     "output_type": "stream",
     "text": [
      "Shape of dataset: (1016, 8)\n"
     ]
    },
    {
     "data": {
      "text/html": [
       "<div>\n",
       "<style scoped>\n",
       "    .dataframe tbody tr th:only-of-type {\n",
       "        vertical-align: middle;\n",
       "    }\n",
       "\n",
       "    .dataframe tbody tr th {\n",
       "        vertical-align: top;\n",
       "    }\n",
       "\n",
       "    .dataframe thead th {\n",
       "        text-align: right;\n",
       "    }\n",
       "</style>\n",
       "<table border=\"1\" class=\"dataframe\">\n",
       "  <thead>\n",
       "    <tr style=\"text-align: right;\">\n",
       "      <th></th>\n",
       "      <th>2017 NAICS Code</th>\n",
       "      <th>2017 NAICS Title</th>\n",
       "      <th>GHG</th>\n",
       "      <th>Unit</th>\n",
       "      <th>Supply Chain Emission Factors without Margins</th>\n",
       "      <th>Margins of Supply Chain Emission Factors</th>\n",
       "      <th>Supply Chain Emission Factors with Margins</th>\n",
       "      <th>Reference USEEIO Code</th>\n",
       "    </tr>\n",
       "  </thead>\n",
       "  <tbody>\n",
       "    <tr>\n",
       "      <th>0</th>\n",
       "      <td>111110</td>\n",
       "      <td>Soybean Farming</td>\n",
       "      <td>All GHGs</td>\n",
       "      <td>kg CO2e/2022 USD, purchaser price</td>\n",
       "      <td>0.488</td>\n",
       "      <td>0.044</td>\n",
       "      <td>0.532</td>\n",
       "      <td>1111A0</td>\n",
       "    </tr>\n",
       "    <tr>\n",
       "      <th>1</th>\n",
       "      <td>111120</td>\n",
       "      <td>Oilseed (except Soybean) Farming</td>\n",
       "      <td>All GHGs</td>\n",
       "      <td>kg CO2e/2022 USD, purchaser price</td>\n",
       "      <td>0.488</td>\n",
       "      <td>0.044</td>\n",
       "      <td>0.532</td>\n",
       "      <td>1111A0</td>\n",
       "    </tr>\n",
       "    <tr>\n",
       "      <th>2</th>\n",
       "      <td>111130</td>\n",
       "      <td>Dry Pea and Bean Farming</td>\n",
       "      <td>All GHGs</td>\n",
       "      <td>kg CO2e/2022 USD, purchaser price</td>\n",
       "      <td>0.809</td>\n",
       "      <td>0.040</td>\n",
       "      <td>0.848</td>\n",
       "      <td>1111B0</td>\n",
       "    </tr>\n",
       "    <tr>\n",
       "      <th>3</th>\n",
       "      <td>111140</td>\n",
       "      <td>Wheat Farming</td>\n",
       "      <td>All GHGs</td>\n",
       "      <td>kg CO2e/2022 USD, purchaser price</td>\n",
       "      <td>0.809</td>\n",
       "      <td>0.040</td>\n",
       "      <td>0.848</td>\n",
       "      <td>1111B0</td>\n",
       "    </tr>\n",
       "    <tr>\n",
       "      <th>4</th>\n",
       "      <td>111150</td>\n",
       "      <td>Corn Farming</td>\n",
       "      <td>All GHGs</td>\n",
       "      <td>kg CO2e/2022 USD, purchaser price</td>\n",
       "      <td>0.809</td>\n",
       "      <td>0.040</td>\n",
       "      <td>0.848</td>\n",
       "      <td>1111B0</td>\n",
       "    </tr>\n",
       "  </tbody>\n",
       "</table>\n",
       "</div>"
      ],
      "text/plain": [
       "   2017 NAICS Code                  2017 NAICS Title       GHG  \\\n",
       "0           111110                   Soybean Farming  All GHGs   \n",
       "1           111120  Oilseed (except Soybean) Farming  All GHGs   \n",
       "2           111130          Dry Pea and Bean Farming  All GHGs   \n",
       "3           111140                     Wheat Farming  All GHGs   \n",
       "4           111150                      Corn Farming  All GHGs   \n",
       "\n",
       "                                Unit  \\\n",
       "0  kg CO2e/2022 USD, purchaser price   \n",
       "1  kg CO2e/2022 USD, purchaser price   \n",
       "2  kg CO2e/2022 USD, purchaser price   \n",
       "3  kg CO2e/2022 USD, purchaser price   \n",
       "4  kg CO2e/2022 USD, purchaser price   \n",
       "\n",
       "   Supply Chain Emission Factors without Margins  \\\n",
       "0                                          0.488   \n",
       "1                                          0.488   \n",
       "2                                          0.809   \n",
       "3                                          0.809   \n",
       "4                                          0.809   \n",
       "\n",
       "   Margins of Supply Chain Emission Factors  \\\n",
       "0                                     0.044   \n",
       "1                                     0.044   \n",
       "2                                     0.040   \n",
       "3                                     0.040   \n",
       "4                                     0.040   \n",
       "\n",
       "   Supply Chain Emission Factors with Margins Reference USEEIO Code  \n",
       "0                                       0.532                1111A0  \n",
       "1                                       0.532                1111A0  \n",
       "2                                       0.848                1111B0  \n",
       "3                                       0.848                1111B0  \n",
       "4                                       0.848                1111B0  "
      ]
     },
     "execution_count": 1,
     "metadata": {},
     "output_type": "execute_result"
    }
   ],
   "source": [
    "# cftrack/notebooks/01_train_model.ipynb\n",
    "\n",
    "import pandas as pd\n",
    "import numpy as np\n",
    "import matplotlib.pyplot as plt\n",
    "import seaborn as sns\n",
    "import os\n",
    "\n",
    "# Display settings\n",
    "pd.set_option('display.max_columns', None)\n",
    "\n",
    "# Load dataset\n",
    "data_path = '../data/SupplyChainGHGEmissionFactors.csv'\n",
    "df = pd.read_csv(data_path)\n",
    "\n",
    "# Preview\n",
    "print(\"Shape of dataset:\", df.shape)\n",
    "df.head()\n"
   ]
  },
  {
   "cell_type": "code",
   "execution_count": 2,
   "id": "387fb026-7257-48a6-bcad-a21e4e8a86e7",
   "metadata": {},
   "outputs": [
    {
     "name": "stdout",
     "output_type": "stream",
     "text": [
      "<class 'pandas.core.frame.DataFrame'>\n",
      "RangeIndex: 1016 entries, 0 to 1015\n",
      "Data columns (total 8 columns):\n",
      " #   Column                                         Non-Null Count  Dtype  \n",
      "---  ------                                         --------------  -----  \n",
      " 0   2017 NAICS Code                                1016 non-null   int64  \n",
      " 1   2017 NAICS Title                               1016 non-null   object \n",
      " 2   GHG                                            1016 non-null   object \n",
      " 3   Unit                                           1016 non-null   object \n",
      " 4   Supply Chain Emission Factors without Margins  1016 non-null   float64\n",
      " 5   Margins of Supply Chain Emission Factors       1016 non-null   float64\n",
      " 6   Supply Chain Emission Factors with Margins     1016 non-null   float64\n",
      " 7   Reference USEEIO Code                          1016 non-null   object \n",
      "dtypes: float64(3), int64(1), object(4)\n",
      "memory usage: 63.6+ KB\n",
      "\n",
      "Unique NAICS Titles: 1016\n",
      "GHG Types: ['All GHGs']\n",
      "Sample GHG Units: ['kg CO2e/2022 USD, purchaser price']\n"
     ]
    }
   ],
   "source": [
    "# Summary of columns\n",
    "df.info()\n",
    "\n",
    "# Null values\n",
    "df.isnull().sum()\n",
    "\n",
    "# Unique values in important columns\n",
    "print(\"\\nUnique NAICS Titles:\", df['2017 NAICS Title'].nunique())\n",
    "print(\"GHG Types:\", df['GHG'].unique())\n",
    "print(\"Sample GHG Units:\", df['Unit'].unique())\n"
   ]
  },
  {
   "cell_type": "code",
   "execution_count": 4,
   "id": "bc1f2b2b-84e6-412e-be22-6524de8095f4",
   "metadata": {},
   "outputs": [
    {
     "name": "stdout",
     "output_type": "stream",
     "text": [
      "['2017 NAICS Code', '2017 NAICS Title', 'GHG', 'Unit', 'Supply Chain Emission Factors without Margins', 'Margins of Supply Chain Emission Factors', 'Supply Chain Emission Factors with Margins', 'Reference USEEIO Code']\n"
     ]
    }
   ],
   "source": [
    "print(df.columns.tolist())\n"
   ]
  },
  {
   "cell_type": "code",
   "execution_count": 5,
   "id": "0e6de21d-fa67-4983-8f02-ff4a5e7bb5e6",
   "metadata": {},
   "outputs": [
    {
     "data": {
      "text/html": [
       "<div>\n",
       "<style scoped>\n",
       "    .dataframe tbody tr th:only-of-type {\n",
       "        vertical-align: middle;\n",
       "    }\n",
       "\n",
       "    .dataframe tbody tr th {\n",
       "        vertical-align: top;\n",
       "    }\n",
       "\n",
       "    .dataframe thead th {\n",
       "        text-align: right;\n",
       "    }\n",
       "</style>\n",
       "<table border=\"1\" class=\"dataframe\">\n",
       "  <thead>\n",
       "    <tr style=\"text-align: right;\">\n",
       "      <th></th>\n",
       "      <th>NAICS_Title</th>\n",
       "      <th>GHG_Type</th>\n",
       "      <th>Emission_Factor</th>\n",
       "    </tr>\n",
       "  </thead>\n",
       "  <tbody>\n",
       "    <tr>\n",
       "      <th>0</th>\n",
       "      <td>Soybean Farming</td>\n",
       "      <td>All GHGs</td>\n",
       "      <td>0.488</td>\n",
       "    </tr>\n",
       "    <tr>\n",
       "      <th>1</th>\n",
       "      <td>Oilseed (except Soybean) Farming</td>\n",
       "      <td>All GHGs</td>\n",
       "      <td>0.488</td>\n",
       "    </tr>\n",
       "    <tr>\n",
       "      <th>2</th>\n",
       "      <td>Dry Pea and Bean Farming</td>\n",
       "      <td>All GHGs</td>\n",
       "      <td>0.809</td>\n",
       "    </tr>\n",
       "    <tr>\n",
       "      <th>3</th>\n",
       "      <td>Wheat Farming</td>\n",
       "      <td>All GHGs</td>\n",
       "      <td>0.809</td>\n",
       "    </tr>\n",
       "    <tr>\n",
       "      <th>4</th>\n",
       "      <td>Corn Farming</td>\n",
       "      <td>All GHGs</td>\n",
       "      <td>0.809</td>\n",
       "    </tr>\n",
       "  </tbody>\n",
       "</table>\n",
       "</div>"
      ],
      "text/plain": [
       "                        NAICS_Title  GHG_Type  Emission_Factor\n",
       "0                   Soybean Farming  All GHGs            0.488\n",
       "1  Oilseed (except Soybean) Farming  All GHGs            0.488\n",
       "2          Dry Pea and Bean Farming  All GHGs            0.809\n",
       "3                     Wheat Farming  All GHGs            0.809\n",
       "4                      Corn Farming  All GHGs            0.809"
      ]
     },
     "execution_count": 5,
     "metadata": {},
     "output_type": "execute_result"
    }
   ],
   "source": [
    "# Strip extra spaces from column names (always good practice)\n",
    "df.columns = df.columns.str.strip()\n",
    "\n",
    "# Rename for clarity and usability\n",
    "df_clean = df.rename(columns={\n",
    "    '2017 NAICS Title': 'NAICS_Title',\n",
    "    'GHG': 'GHG_Type',\n",
    "    'Supply Chain Emission Factors without Margins': 'Emission_Factor'\n",
    "})\n",
    "\n",
    "# Drop rows with missing values in important columns\n",
    "df_clean = df_clean.dropna(subset=['Emission_Factor', 'NAICS_Title', 'GHG_Type'])\n",
    "\n",
    "# Reset index\n",
    "df_clean = df_clean.reset_index(drop=True)\n",
    "\n",
    "# Preview cleaned data\n",
    "df_clean[['NAICS_Title', 'GHG_Type', 'Emission_Factor']].head()\n"
   ]
  },
  {
   "cell_type": "code",
   "execution_count": 6,
   "id": "8f8ee7ff-deae-4b6e-953d-36fd03df4640",
   "metadata": {},
   "outputs": [
    {
     "data": {
      "image/png": "[encoded data removed]",
      "text/plain": [
       "<Figure size 1000x600 with 1 Axes>"
      ]
     },
     "metadata": {},
     "output_type": "display_data"
    }
   ],
   "source": [
    "plt.figure(figsize=(10, 6))\n",
    "sns.histplot(df_clean['Emission_Factor'], bins=50, kde=True)\n",
    "plt.title('Distribution of Emission Factors')\n",
    "plt.xlabel('Emission Factor (kg CO2e)')\n",
    "plt.ylabel('Frequency')\n",
    "plt.grid(True)\n",
    "plt.show()\n"
   ]
  },
  {
   "cell_type": "code",
   "execution_count": 10,
   "id": "17b57de5-9286-450f-af61-40e3ef89fe25",
   "metadata": {},
   "outputs": [
    {
     "name": "stdout",
     "output_type": "stream",
     "text": [
      "R2 Score: -0.18131595421311042\n",
      "RMSE: 0.31738732921630436\n"
     ]
    }
   ],
   "source": [
    "from sklearn.model_selection import train_test_split\n",
    "from sklearn.ensemble import RandomForestRegressor\n",
    "from sklearn.preprocessing import LabelEncoder\n",
    "from sklearn.metrics import mean_squared_error, r2_score\n",
    "import joblib\n",
    "import os\n",
    "\n",
    "# One-hot encode NAICS_Title and GHG_Type\n",
    "df_encoded = pd.get_dummies(df_clean[['NAICS_Title', 'GHG_Type']], drop_first=True)\n",
    "\n",
    "# Combine with target\n",
    "X = df_encoded\n",
    "y = df_clean['Emission_Factor']\n",
    "\n",
    "# Train-test split\n",
    "X_train, X_test, y_train, y_test = train_test_split(X, y, test_size=0.2, random_state=42)\n",
    "\n",
    "# Model training\n",
    "model = RandomForestRegressor(n_estimators=100, random_state=42)\n",
    "model.fit(X_train, y_train)\n",
    "\n",
    "# Evaluation\n",
    "y_pred = model.predict(X_test)\n",
    "from sklearn.metrics import root_mean_squared_error\n",
    "print(\"R2 Score:\", r2_score(y_test, y_pred))\n",
    "print(\"RMSE:\", root_mean_squared_error(y_test, y_pred))\n",
    "\n"
   ]
  },
  {
   "cell_type": "code",
   "execution_count": 11,
   "id": "7f979500-828a-4862-9bac-79c93a84a70b",
   "metadata": {},
   "outputs": [
    {
     "data": {
      "text/html": [
       "<div>\n",
       "<style scoped>\n",
       "    .dataframe tbody tr th:only-of-type {\n",
       "        vertical-align: middle;\n",
       "    }\n",
       "\n",
       "    .dataframe tbody tr th {\n",
       "        vertical-align: top;\n",
       "    }\n",
       "\n",
       "    .dataframe thead th {\n",
       "        text-align: right;\n",
       "    }\n",
       "</style>\n",
       "<table border=\"1\" class=\"dataframe\">\n",
       "  <thead>\n",
       "    <tr style=\"text-align: right;\">\n",
       "      <th></th>\n",
       "      <th>Emission_Factor</th>\n",
       "      <th>Severity</th>\n",
       "    </tr>\n",
       "  </thead>\n",
       "  <tbody>\n",
       "    <tr>\n",
       "      <th>0</th>\n",
       "      <td>0.488</td>\n",
       "      <td>Low</td>\n",
       "    </tr>\n",
       "    <tr>\n",
       "      <th>1</th>\n",
       "      <td>0.488</td>\n",
       "      <td>Low</td>\n",
       "    </tr>\n",
       "    <tr>\n",
       "      <th>2</th>\n",
       "      <td>0.809</td>\n",
       "      <td>Low</td>\n",
       "    </tr>\n",
       "    <tr>\n",
       "      <th>3</th>\n",
       "      <td>0.809</td>\n",
       "      <td>Low</td>\n",
       "    </tr>\n",
       "    <tr>\n",
       "      <th>4</th>\n",
       "      <td>0.809</td>\n",
       "      <td>Low</td>\n",
       "    </tr>\n",
       "  </tbody>\n",
       "</table>\n",
       "</div>"
      ],
      "text/plain": [
       "   Emission_Factor Severity\n",
       "0            0.488      Low\n",
       "1            0.488      Low\n",
       "2            0.809      Low\n",
       "3            0.809      Low\n",
       "4            0.809      Low"
      ]
     },
     "execution_count": 11,
     "metadata": {},
     "output_type": "execute_result"
    }
   ],
   "source": [
    "# Classify severity based on emission factor thresholds\n",
    "def classify_severity(value):\n",
    "    if value < 50:\n",
    "        return \"Low\"\n",
    "    elif 50 <= value < 150:\n",
    "        return \"Moderate\"\n",
    "    else:\n",
    "        return \"High\"\n",
    "\n",
    "# Apply classification\n",
    "df_clean['Severity'] = df_clean['Emission_Factor'].apply(classify_severity)\n",
    "\n",
    "# Preview\n",
    "df_clean[['Emission_Factor', 'Severity']].head()\n"
   ]
  },
  {
   "cell_type": "code",
   "execution_count": 13,
   "id": "6f330102-bb56-44a0-a7e8-ceb4f6398972",
   "metadata": {},
   "outputs": [
    {
     "name": "stdout",
     "output_type": "stream",
     "text": [
      "✅ Model and encoders saved to /cftrack/model/\n"
     ]
    }
   ],
   "source": [
    "# Create model directory if not exists\n",
    "model_dir = '../model'\n",
    "os.makedirs(model_dir, exist_ok=True)\n",
    "\n",
    "# Save model and encoders\n",
    "joblib.dump(model, os.path.join(model_dir, 'emission_model.pkl'))\n",
    "joblib.dump(le_naics, os.path.join(model_dir, 'naics_encoder.pkl'))\n",
    "joblib.dump(le_ghg, os.path.join(model_dir, 'ghg_encoder.pkl'))\n",
    "\n",
    "print(\"✅ Model and encoders saved to /cftrack/model/\")\n"
   ]
  },
  {
   "cell_type": "code",
   "execution_count": null,
   "id": "412778d1-594e-4830-96f7-671557e25caa",
   "metadata": {},
   "outputs": [],
   "source": []
  }
 ],
 "metadata": {
  "kernelspec": {
   "display_name": "Python 3 (ipykernel)",
   "language": "python",
   "name": "python3"
  },
  "language_info": {
   "codemirror_mode": {
    "name": "ipython",
    "version": 3
   },
   "file_extension": ".py",
   "mimetype": "text/x-python",
   "name": "python",
   "nbconvert_exporter": "python",
   "pygments_lexer": "ipython3",
   "version": "3.12.4"
  }
 },
 "nbformat": 4,
 "nbformat_minor": 5
}
